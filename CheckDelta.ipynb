{
 "cells": [
  {
   "cell_type": "code",
   "outputs": [],
   "source": [
    "import pyspark\n",
    "pyspark_version = pyspark.__version__\n",
    "from pyspark.sql import SparkSession\n",
    "from delta.pip_utils import configure_spark_with_delta_pip\n",
    "from pyspark.sql.functions import *\n",
    "\n",
    "\n",
    "class DeltaSpark:\n",
    "\n",
    "    _SHOW = True\n",
    "\n",
    "    ####################################################################################################################\n",
    "    def __init__(self, app_name: str = 'PySparkDelta', warehouse: str = 'warehouse/'):\n",
    "        super().__init__()\n",
    "        self._appName = app_name\n",
    "        self._warehouseDir = warehouse\n",
    "\n",
    "    ####################################################################################################################\n",
    "    def initialize(self):\n",
    "\n",
    "        # --------------------------------------------------------------------------------------------------------------\n",
    "        spark = (SparkSession\n",
    "                 .builder\n",
    "                 .appName(self._appName)\n",
    "                 .config('spark.sql.extensions', 'io.delta.sql.DeltaSparkSessionExtension')\n",
    "                 .config('spark.sql.catalog.spark_catalog', 'org.apache.spark.sql.delta.catalog.DeltaCatalog')\n",
    "                 .config('spark.sql.warehouse.dir', self._warehouseDir)\n",
    "                 .enableHiveSupport()\n",
    "                 )\n",
    "        # --------------------------------------------------------------------------------------------------------------\n",
    "        spark = configure_spark_with_delta_pip(spark).getOrCreate()\n",
    "        spark.sparkContext.setLogLevel('ERROR')\n",
    "        spark.conf.set(\"spark.sql.shuffle.partitions\", 8)\n",
    "        # --------------------------------------------------------------------------------------------------------------\n",
    "        delta_version_info = f' Version = 3.1.0 '.center(22, ' ')\n",
    "        pyspark_version_info_1 = str(pyspark_version)\n",
    "        pyspark_version_info = f'Version = {pyspark_version_info_1} '.ljust(19, ' ')\n",
    "        # --------------------------------------------------------------------------------------------------------------\n",
    "        print(f\"\"\"{' ' * 9}______      _____                  _      _  ______     _ _          _  ______               _       \"\"\")\n",
    "        print(f\"\"\"{' ' * 9}| ___ \\\\    /  ___|                | |    | | |  _  \\\\   | | |        | | | ___ \\\\             | |      \"\"\")\n",
    "        print(f\"\"\"{' ' * 9}| |_/ /   _\\ `--. _ __   __ _ _ __| | __ | | | | | |___| | |_ __ _  | | | |_/ /___  __ _  __| |_   _ \"\"\")\n",
    "        print(f\"\"\"{' ' * 9}|  __/ | | |`--. \\\\ '_ \\ / _` | '__| |/ / | | | | | / _ \\\\ | __/ _` | | | |    // _ \\\\/ _` |/ _` | | | |\"\"\")\n",
    "        print(f\"\"\"{' ' * 9}| |  | |_| /\\__/ / |_) | (_| | |  |   <  | | | |/ /  __/ | || (_| | | | | |\\ \\  __/ (_| | (_| | |_| |\"\"\")\n",
    "        print(f\"\"\"{' ' * 9}\\\\_|   \\\\__, \\\\____/| .__/ \\\\__,_|_|  |_|\\\\_\\\\ | | |___/ \\\\___|_|\\__\\\\__,_| | | \\\\_| \\\\_\\\\___|\\\\__,_|\\\\__,_|\\\\__, |\"\"\")\n",
    "        print(f\"\"\"{' ' * 9}       __/ |     | |                     | |                        | |                         __/ |\"\"\")\n",
    "        print(f\"\"\"{' ' * 9}      |___/      |_| {pyspark_version_info} |_| {delta_version_info} |_|                        |___/ \"\"\")\n",
    "        # --------------------------------------------------------------------------------------------------------------\n",
    "\n",
    "        return spark"
   ],
   "metadata": {
    "collapsed": false,
    "ExecuteTime": {
     "end_time": "2024-02-12T01:31:26.790227Z",
     "start_time": "2024-02-12T01:31:26.786181Z"
    }
   },
   "id": "211b86b67c65e2f4",
   "execution_count": 11
  },
  {
   "cell_type": "code",
   "outputs": [
    {
     "name": "stdout",
     "output_type": "stream",
     "text": [
      "         ______      _____                  _      _  ______     _ _          _  ______               _       \n",
      "         | ___ \\    /  ___|                | |    | | |  _  \\   | | |        | | | ___ \\             | |      \n",
      "         | |_/ /   _\\ `--. _ __   __ _ _ __| | __ | | | | | |___| | |_ __ _  | | | |_/ /___  __ _  __| |_   _ \n",
      "         |  __/ | | |`--. \\ '_ \\ / _` | '__| |/ / | | | | | / _ \\ | __/ _` | | | |    // _ \\/ _` |/ _` | | | |\n",
      "         | |  | |_| /\\__/ / |_) | (_| | |  |   <  | | | |/ /  __/ | || (_| | | | | |\\ \\  __/ (_| | (_| | |_| |\n",
      "         \\_|   \\__, \\____/| .__/ \\__,_|_|  |_|\\_\\ | | |___/ \\___|_|\\__\\__,_| | | \\_| \\_\\___|\\__,_|\\__,_|\\__, |\n",
      "                __/ |     | |                     | |                        | |                         __/ |\n",
      "               |___/      |_| Version = 3.5.0     |_|    Version = 3.1.0     |_|                        |___/ \n"
     ]
    }
   ],
   "source": [
    "spark = DeltaSpark().initialize()"
   ],
   "metadata": {
    "collapsed": false,
    "ExecuteTime": {
     "end_time": "2024-02-12T01:30:59.244081Z",
     "start_time": "2024-02-12T01:30:59.198138Z"
    }
   },
   "id": "c0ce374a3b738bc",
   "execution_count": 4
  },
  {
   "cell_type": "code",
   "outputs": [
    {
     "name": "stderr",
     "output_type": "stream",
     "text": [
      "                                                                                \r"
     ]
    },
    {
     "name": "stdout",
     "output_type": "stream",
     "text": [
      "+--------------------+-------+--------------------+-------------+--------------------+--------------------+\n",
      "|                  id|     db|               table|rows_inserted|          start_time|            end_time|\n",
      "+--------------------+-------+--------------------+-------------+--------------------+--------------------+\n",
      "|2024-02-11 19:47:...|gold.db|gold_d_brewery_co...|            0|2024-02-11 16:47:...|2024-02-11 16:47:...|\n",
      "|2024-02-11 19:52:...|gold.db|gold_d_brewery_co...|            0|2024-02-11 16:52:...|2024-02-11 16:52:...|\n",
      "|2024-02-11 19:47:...|gold.db|gold_d_brewery_state|            0|2024-02-11 16:47:...|2024-02-11 16:47:...|\n",
      "|2024-02-11 19:52:...|gold.db|gold_d_brewery_state|            0|2024-02-11 16:52:...|2024-02-11 16:52:...|\n",
      "|2024-02-11 19:52:...|gold.db| gold_d_brewery_city|            0|2024-02-11 16:52:...|2024-02-11 16:52:...|\n",
      "|2024-02-11 19:47:...|gold.db| gold_d_brewery_city|            0|2024-02-11 16:47:...|2024-02-11 16:47:...|\n",
      "|2024-02-11 19:47:...|gold.db|      gold_f_brewery|         8237|2024-02-11 16:47:...|2024-02-11 16:48:...|\n",
      "|2024-02-11 19:52:...|gold.db|      gold_f_brewery|         8237|2024-02-11 16:52:...|2024-02-11 16:52:...|\n",
      "+--------------------+-------+--------------------+-------------+--------------------+--------------------+\n"
     ]
    }
   ],
   "source": [
    "df = spark.read.format(\"delta\").load(\"warehouse/info.db/log\")\n",
    "df.show()"
   ],
   "metadata": {
    "collapsed": false,
    "ExecuteTime": {
     "end_time": "2024-02-12T01:30:57.104311Z",
     "start_time": "2024-02-12T01:30:50.318054Z"
    }
   },
   "id": "76e46365e0761e84",
   "execution_count": 3
  },
  {
   "cell_type": "code",
   "outputs": [],
   "source": [
    "dict_delta_tables_gold_brew = {\n",
    "    [item[1] for item in row.asDict().items()][1].split('_')[-1]: \n",
    "        \"/\".join([item[1] for item in row.asDict().items()]) for row in spark.read.format(\"delta\").load(\"warehouse/info.db/log\").select('db', 'table').filter(\"db = 'gold.db'\").distinct().collect()}"
   ],
   "metadata": {
    "collapsed": false,
    "ExecuteTime": {
     "end_time": "2024-02-12T01:31:03.676805Z",
     "start_time": "2024-02-12T01:31:02.510991Z"
    }
   },
   "id": "ee04f4754355bcd5",
   "execution_count": 5
  },
  {
   "cell_type": "code",
   "outputs": [],
   "source": [
    "df_country = spark.read.format(\"delta\").load('warehouse/' + dict_delta_tables_gold_brew.get('country'))\n",
    "df_state = spark.read.format(\"delta\").load('warehouse/' + dict_delta_tables_gold_brew.get('state'))\n",
    "df_city = spark.read.format(\"delta\").load('warehouse/' + dict_delta_tables_gold_brew.get('city'))\n",
    "df_brew = spark.read.format(\"delta\").load('warehouse/' + dict_delta_tables_gold_brew.get('brewery'))"
   ],
   "metadata": {
    "collapsed": false,
    "ExecuteTime": {
     "end_time": "2024-02-12T01:31:04.823686Z",
     "start_time": "2024-02-12T01:31:04.194188Z"
    }
   },
   "id": "4790b9e26526ba34",
   "execution_count": 6
  },
  {
   "cell_type": "markdown",
   "source": [
    "---\n",
    "\n",
    "# Getting the number of Breweries per country"
   ],
   "metadata": {
    "collapsed": false
   },
   "id": "8e8e627efd730d9c"
  },
  {
   "cell_type": "code",
   "outputs": [
    {
     "name": "stdout",
     "output_type": "stream",
     "text": [
      "+--------+-------------+\n",
      "|      PK|      country|\n",
      "+--------+-------------+\n",
      "|30000000|     Scotland|\n",
      "|30000001|United States|\n",
      "|30000002|      England|\n",
      "|30000003|      Austria|\n",
      "|30000004|       France|\n",
      "|30000005|       Poland|\n",
      "|30000006|      Ireland|\n",
      "|30000007|     Portugal|\n",
      "|30000008|  South Korea|\n",
      "|30000009|  Isle Of Man|\n",
      "+--------+-------------+\n"
     ]
    }
   ],
   "source": [
    "df_country.orderBy('PK').show()"
   ],
   "metadata": {
    "collapsed": false,
    "ExecuteTime": {
     "end_time": "2024-02-12T01:31:09.062098Z",
     "start_time": "2024-02-12T01:31:07.545024Z"
    }
   },
   "id": "5571f5dc4fed878a",
   "execution_count": 7
  },
  {
   "cell_type": "markdown",
   "source": [
    "We can uso the `PK` column with the column `p_country` in df_brew as shown below"
   ],
   "metadata": {
    "collapsed": false
   },
   "id": "eb411770bbe3288c"
  },
  {
   "cell_type": "code",
   "outputs": [
    {
     "name": "stderr",
     "output_type": "stream",
     "text": [
      "                                                                                \r"
     ]
    },
    {
     "name": "stdout",
     "output_type": "stream",
     "text": [
      "+--------------------+---------+--------------------+\n",
      "|                  id|p_country|                name|\n",
      "+--------------------+---------+--------------------+\n",
      "|1b2570c6-9396-41a...| 30000001|   Peter B's Brewpub|\n",
      "|1859086e-a38e-4e0...| 30000001|  Ironmonger Brewing|\n",
      "|0cb99662-37d0-4a6...| 30000001|Pumphouse Brewery...|\n",
      "|047e6c05-5c5f-4ee...| 30000001|Buzz Bomb Brewing Co|\n",
      "|051edb66-62ad-455...| 30000001|    Asher Brewing Co|\n",
      "|053d96fd-337c-4d7...| 30000001|Hoppin' Frog Brew...|\n",
      "|06f29dde-6f82-4e2...| 30000001|      M.i.a. Beer Co|\n",
      "|0c9c1cb2-6f27-432...| 30000001|Prison Hill Brewi...|\n",
      "|16260ec1-907c-4e9...| 30000001|Town Branch Disti...|\n",
      "|1cfa05f2-9520-470...| 30000001| Forgotten Road Ales|\n",
      "+--------------------+---------+--------------------+\n"
     ]
    }
   ],
   "source": [
    "df_brew.select('id', 'p_country', 'name').limit(10).show()"
   ],
   "metadata": {
    "collapsed": false,
    "ExecuteTime": {
     "end_time": "2024-02-12T01:31:11.140296Z",
     "start_time": "2024-02-12T01:31:09.056690Z"
    }
   },
   "id": "1e6297e03bb45bdc",
   "execution_count": 8
  },
  {
   "cell_type": "markdown",
   "source": [
    "Fot thar first we will group the `df_brew` so that we can merge both to get the number of breweries per country"
   ],
   "metadata": {
    "collapsed": false
   },
   "id": "e205feef89b84022"
  },
  {
   "cell_type": "code",
   "outputs": [
    {
     "name": "stderr",
     "output_type": "stream",
     "text": [
      "[Stage 44:==================================================>  (245 + 10) / 258]\r"
     ]
    },
    {
     "name": "stdout",
     "output_type": "stream",
     "text": [
      "+--------+---------------+\n",
      "|      PK|total_breweries|\n",
      "+--------+---------------+\n",
      "|30000000|             10|\n",
      "|30000001|           7967|\n",
      "|30000002|             62|\n",
      "|30000003|             14|\n",
      "|30000004|              3|\n",
      "|30000005|             34|\n",
      "|30000006|             70|\n",
      "|30000007|             14|\n",
      "|30000008|             61|\n",
      "|30000009|              2|\n",
      "+--------+---------------+\n"
     ]
    },
    {
     "name": "stderr",
     "output_type": "stream",
     "text": [
      "                                                                                \r"
     ]
    }
   ],
   "source": [
    "df_brew_grouped = df_brew.select('id', 'p_country').groupBy('p_country').count().orderBy('p_country').select(col('p_country').alias('PK'), col('count').alias('total_breweries'))\n",
    "df_brew_grouped.show()"
   ],
   "metadata": {
    "collapsed": false,
    "ExecuteTime": {
     "end_time": "2024-02-12T01:31:37.399410Z",
     "start_time": "2024-02-12T01:31:32.098468Z"
    }
   },
   "id": "49031a7c5c70f26b",
   "execution_count": 12
  },
  {
   "cell_type": "markdown",
   "source": [
    "Now with the amout of breweries grouped by country we can merge both"
   ],
   "metadata": {
    "collapsed": false
   },
   "id": "a61b352e6cc627bc"
  },
  {
   "cell_type": "code",
   "outputs": [
    {
     "name": "stderr",
     "output_type": "stream",
     "text": [
      "[Stage 52:=====================================================>(257 + 1) / 258]\r"
     ]
    },
    {
     "name": "stdout",
     "output_type": "stream",
     "text": [
      "+--------+-------------+---------------+\n",
      "|      PK|      country|total_breweries|\n",
      "+--------+-------------+---------------+\n",
      "|30000001|United States|           7967|\n",
      "|30000006|      Ireland|             70|\n",
      "|30000002|      England|             62|\n",
      "|30000008|  South Korea|             61|\n",
      "|30000005|       Poland|             34|\n",
      "|30000007|     Portugal|             14|\n",
      "|30000003|      Austria|             14|\n",
      "|30000000|     Scotland|             10|\n",
      "|30000004|       France|              3|\n",
      "|30000009|  Isle Of Man|              2|\n",
      "+--------+-------------+---------------+\n"
     ]
    },
    {
     "name": "stderr",
     "output_type": "stream",
     "text": [
      "                                                                                \r"
     ]
    }
   ],
   "source": [
    "df_country_total_brews = df_country.join(df_brew_grouped, on=['PK'], how='inner').orderBy('total_breweries', ascending=False)\n",
    "df_country_total_brews.show()"
   ],
   "metadata": {
    "collapsed": false,
    "ExecuteTime": {
     "end_time": "2024-02-12T01:31:43.839249Z",
     "start_time": "2024-02-12T01:31:38.497335Z"
    }
   },
   "id": "a6f3ad92edc9def",
   "execution_count": 13
  },
  {
   "cell_type": "markdown",
   "source": [
    "We can still improve on the information provided by showing the amount of breweries per `brewery_type`.\n",
    "\n",
    "For that we must create a pivot table grouping by `p_country` and `brewery_type` on the `df_brew` and counting on `id` once more so that we can then pivot on `brewery_type` and for the `null` that we will get on the cases that we don't have the brewery type we will use a `.na.fill()` to fix it with `0`."
   ],
   "metadata": {
    "collapsed": false
   },
   "id": "faabc7b03e0a5e24"
  },
  {
   "cell_type": "code",
   "outputs": [
    {
     "name": "stderr",
     "output_type": "stream",
     "text": [
      "[Stage 97:================================================>    (237 + 10) / 258]\r"
     ]
    },
    {
     "name": "stdout",
     "output_type": "stream",
     "text": [
      "+--------+---+-------+------+--------+-----+-----+----+--------+----------+--------+-------+\n",
      "|PK      |bar|brewpub|closed|contract|large|micro|nano|planning|proprietor|regional|taproom|\n",
      "+--------+---+-------+------+--------+-----+-----+----+--------+----------+--------+-------+\n",
      "|30000000|0  |0      |1     |0       |0    |9    |0   |0       |0         |0       |0      |\n",
      "|30000001|2  |2395   |190   |193     |74   |4131 |9   |691     |69        |213     |0      |\n",
      "|30000002|0  |10     |0     |0       |1    |40   |0   |0       |0         |0       |11     |\n",
      "|30000003|2  |1      |0     |0       |9    |0    |2   |0       |0         |0       |0      |\n",
      "|30000004|0  |0      |0     |0       |0    |3    |0   |0       |0         |0       |0      |\n",
      "|30000005|0  |11     |0     |0       |0    |20   |0   |0       |0         |3       |0      |\n",
      "|30000006|0  |9      |0     |0       |3    |49   |0   |0       |0         |9       |0      |\n",
      "|30000007|0  |7      |0     |0       |0    |7    |0   |0       |0         |0       |0      |\n",
      "|30000008|0  |56     |0     |0       |0    |5    |0   |0       |0         |0       |0      |\n",
      "|30000009|0  |0      |0     |0       |0    |2    |0   |0       |0         |0       |0      |\n",
      "+--------+---+-------+------+--------+-----+-----+----+--------+----------+--------+-------+\n"
     ]
    },
    {
     "name": "stderr",
     "output_type": "stream",
     "text": [
      "                                                                                \r"
     ]
    }
   ],
   "source": [
    "df_pivot_brew_type = df_brew.select(col('id'), col('brewery_type'), col('p_country').alias('PK')).groupBy('PK').pivot('brewery_type').count().orderBy('PK').drop('id')\n",
    "# Filling the NULL values form the groupby and pivot\n",
    "df_pivot_brew_type = df_pivot_brew_type.na.fill(0, subset=[column for column in df_pivot_brew_type.schema.names if column not in ['PK', 'p_country', 'id']])\n",
    "\n",
    "df_pivot_brew_type.show(truncate=False)"
   ],
   "metadata": {
    "collapsed": false,
    "ExecuteTime": {
     "end_time": "2024-02-12T01:34:11.748557Z",
     "start_time": "2024-02-12T01:34:04.233054Z"
    }
   },
   "id": "720a485b23b3e4db",
   "execution_count": 17
  },
  {
   "cell_type": "markdown",
   "source": [
    "Now let's merge both dataframes to better understand"
   ],
   "metadata": {
    "collapsed": false
   },
   "id": "1af46751b05797fb"
  },
  {
   "cell_type": "code",
   "outputs": [
    {
     "name": "stderr",
     "output_type": "stream",
     "text": [
      "[Stage 135:================================================>   (242 + 10) / 258]\r"
     ]
    },
    {
     "name": "stdout",
     "output_type": "stream",
     "text": [
      "+-------------+---------------+---+-------+------+--------+-----+-----+----+--------+----------+--------+-------+\n",
      "|country      |total_breweries|bar|brewpub|closed|contract|large|micro|nano|planning|proprietor|regional|taproom|\n",
      "+-------------+---------------+---+-------+------+--------+-----+-----+----+--------+----------+--------+-------+\n",
      "|United States|7967           |2  |2395   |190   |193     |74   |4131 |9   |691     |69        |213     |0      |\n",
      "|Ireland      |70             |0  |9      |0     |0       |3    |49   |0   |0       |0         |9       |0      |\n",
      "|England      |62             |0  |10     |0     |0       |1    |40   |0   |0       |0         |0       |11     |\n",
      "|South Korea  |61             |0  |56     |0     |0       |0    |5    |0   |0       |0         |0       |0      |\n",
      "|Poland       |34             |0  |11     |0     |0       |0    |20   |0   |0       |0         |3       |0      |\n",
      "|Portugal     |14             |0  |7      |0     |0       |0    |7    |0   |0       |0         |0       |0      |\n",
      "|Austria      |14             |2  |1      |0     |0       |9    |0    |2   |0       |0         |0       |0      |\n",
      "|Scotland     |10             |0  |0      |1     |0       |0    |9    |0   |0       |0         |0       |0      |\n",
      "|France       |3              |0  |0      |0     |0       |0    |3    |0   |0       |0         |0       |0      |\n",
      "|Isle Of Man  |2              |0  |0      |0     |0       |0    |2    |0   |0       |0         |0       |0      |\n",
      "+-------------+---------------+---+-------+------+--------+-----+-----+----+--------+----------+--------+-------+\n"
     ]
    },
    {
     "name": "stderr",
     "output_type": "stream",
     "text": [
      "                                                                                \r"
     ]
    }
   ],
   "source": [
    "from operator import add\n",
    "from functools import reduce\n",
    "\n",
    "df_country_final = df_country_total_brews.join(df_pivot_brew_type, on=['PK'], how='inner').drop('PK')\n",
    "if (df_country_final.withColumn('ValidateTotal', \n",
    "                                reduce(add, [col(x) for x in df_country_final.schema.names if x not in ['PK', 'country', 'total_breweries']]))\n",
    "                    .withColumn('compare', col('ValidateTotal') - col('total_breweries'))\n",
    "                    .filter(col('compare') != 0).count()) == 0:\n",
    "    df_country_final.orderBy('total_breweries', ascending=False).show(truncate=False)"
   ],
   "metadata": {
    "collapsed": false,
    "ExecuteTime": {
     "end_time": "2024-02-12T01:35:58.718235Z",
     "start_time": "2024-02-12T01:35:51.715051Z"
    }
   },
   "id": "7fabfcb931a7c695",
   "execution_count": 22
  }
 ],
 "metadata": {
  "kernelspec": {
   "display_name": "Python 3",
   "language": "python",
   "name": "python3"
  },
  "language_info": {
   "codemirror_mode": {
    "name": "ipython",
    "version": 2
   },
   "file_extension": ".py",
   "mimetype": "text/x-python",
   "name": "python",
   "nbconvert_exporter": "python",
   "pygments_lexer": "ipython2",
   "version": "2.7.6"
  }
 },
 "nbformat": 4,
 "nbformat_minor": 5
}
