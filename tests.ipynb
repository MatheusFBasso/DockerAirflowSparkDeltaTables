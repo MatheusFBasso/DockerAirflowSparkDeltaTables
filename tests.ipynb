{
 "cells": [
  {
   "cell_type": "code",
   "execution_count": 2,
   "id": "initial_id",
   "metadata": {
    "collapsed": true,
    "ExecuteTime": {
     "end_time": "2024-02-03T20:35:12.933969Z",
     "start_time": "2024-02-03T20:35:12.796277Z"
    }
   },
   "outputs": [],
   "source": [
    "from plugins.brew_project.libs.utils.utils import DeltaSpark"
   ]
  },
  {
   "cell_type": "code",
   "outputs": [
    {
     "name": "stdout",
     "output_type": "stream",
     "text": [
      "\n",
      "========================================================================================================================\n",
      "2024-02-03T17:35:18 | STARTING SPARK |===================================================================================\n",
      "2024-02-03T17:35:18 | SPARK INITIALIZED |================================================================================\n",
      "========================================================================================================================\n"
     ]
    }
   ],
   "source": [
    "spark = DeltaSpark().initialize()"
   ],
   "metadata": {
    "collapsed": false,
    "ExecuteTime": {
     "end_time": "2024-02-03T20:35:18.051728Z",
     "start_time": "2024-02-03T20:35:18.007271Z"
    }
   },
   "id": "39ac717a30d5ca1a",
   "execution_count": 4
  },
  {
   "cell_type": "code",
   "outputs": [],
   "source": [
    "df = spark.read.format(\"delta\").load(\"./brew_project/warehouse/silver.db/brewery\")"
   ],
   "metadata": {
    "collapsed": false,
    "ExecuteTime": {
     "end_time": "2024-02-03T20:35:24.439523Z",
     "start_time": "2024-02-03T20:35:21.278287Z"
    }
   },
   "id": "86b702ddced93744",
   "execution_count": 5
  },
  {
   "cell_type": "code",
   "outputs": [],
   "source": [
    "df.createTempView('df')"
   ],
   "metadata": {
    "collapsed": false,
    "ExecuteTime": {
     "end_time": "2024-02-03T20:35:24.478020Z",
     "start_time": "2024-02-03T20:35:24.441366Z"
    }
   },
   "id": "240cae6bfe0ffa5b",
   "execution_count": 6
  },
  {
   "cell_type": "code",
   "outputs": [
    {
     "name": "stderr",
     "output_type": "stream",
     "text": [
      "                                                                                \r"
     ]
    },
    {
     "name": "stdout",
     "output_type": "stream",
     "text": [
      "+---+\n",
      "|id |\n",
      "+---+\n",
      "+---+\n"
     ]
    }
   ],
   "source": [
    "spark.sql(\"\"\"\n",
    "SELECT id\n",
    "FROM df\n",
    "GROUP BY id\n",
    "HAVING COUNT(id) > 1\n",
    "\"\"\").show(truncate=False)"
   ],
   "metadata": {
    "collapsed": false,
    "ExecuteTime": {
     "end_time": "2024-02-03T20:35:31.230638Z",
     "start_time": "2024-02-03T20:35:26.674117Z"
    }
   },
   "id": "101e7a8e3e2f58e4",
   "execution_count": 7
  },
  {
   "cell_type": "code",
   "outputs": [],
   "source": [
    "brewery_city = spark.read.format(\"delta\").load(\"./brew_project/warehouse/gold.db/gold_d_brewery_city\")\n",
    "brewery_country = spark.read.format(\"delta\").load(\"./brew_project/warehouse/gold.db/gold_d_brewery_country\")\n",
    "brewery_state = spark.read.format(\"delta\").load(\"./brew_project/warehouse/gold.db/gold_d_brewery_state\")\n",
    "brewery = spark.read.format(\"delta\").load(\"./brew_project/warehouse/gold.db/gold_f_brewery\")"
   ],
   "metadata": {
    "collapsed": false,
    "ExecuteTime": {
     "end_time": "2024-02-03T20:50:12.521716Z",
     "start_time": "2024-02-03T20:50:12.334284Z"
    }
   },
   "id": "32752e543a8d3a9",
   "execution_count": 27
  },
  {
   "cell_type": "code",
   "outputs": [
    {
     "name": "stderr",
     "output_type": "stream",
     "text": [
      "[Stage 182:=================================================>     (88 + 1) / 97]\r"
     ]
    },
    {
     "name": "stdout",
     "output_type": "stream",
     "text": [
      "+--------------------+--------------------+------------+---------+---------+----------+--------------------+--------------------+------------+-------------+-------------+\n",
      "|                  id|                name|brewery_type| latitude|longitude|     phone|         website_url|             address|        city|      country|        state|\n",
      "+--------------------+--------------------+------------+---------+---------+----------+--------------------+--------------------+------------+-------------+-------------+\n",
      "|0efdefd9-f325-479...|Bad Joker Brewing...|       micro| 41.59874| 41.59874|3075225824|https://bad-joker...|830 Powerhouse Dr | |Rock Springs|United States|      Wyoming|\n",
      "|281a2d47-03db-45a...|Poseidon Brewing ...|       micro|34.244152|34.244152|8054770239|http://www.poseid...|5777 Olivas Park ...|     Ventura|United States|   California|\n",
      "|1b089764-3735-43f...|Gillette Brewing ...|      closed|44.292038|44.292038|3076708948|http://www.gillet...|301 S Gillette Av...|    Gillette|United States|      Wyoming|\n",
      "|044daf89-a298-426...|Scrappy Punk Brewing|       micro|47.913654|47.913654|5038101655|http://www.facebo...|9029A 112th Dr SE | |   Snohomish|United States|   Washington|\n",
      "|26079ee9-0313-425...|Austin Brothers' ...|     brewpub| 45.07297| 45.07297|9893402300|http://www.austin...|  821 W Miller St | |      Alpena|United States|     Michigan|\n",
      "|20a3789b-132b-46a...|    Longship Brewery|      closed| 32.90417| 32.90417|8582467875|http://www.Longsh...|10320 Camino Sant...|   San Diego|United States|   California|\n",
      "|247250ee-18e2-4d0...|Humperdinks Resta...|     brewpub| 32.86378| 32.86378|2143584159|http://www.humper...|2208 W Northwest ...|      Dallas|United States|        Texas|\n",
      "|0ede1ab1-f8fe-4d9...|Lagunitas Brewing Co|       large|38.272648|38.272648|7077694495|http://www.laguni...|1280 N McDowell B...|    Petaluma|United States|   California|\n",
      "|14e4b777-090d-46f...|   Ardent Craft Ales|       micro|37.568443|37.568443|8043591605|http://www.ardent...|  3200 W Leigh St | |    Richmond|United States|     Virginia|\n",
      "|13bcbdcc-50e5-466...|West Shore Brewin...|       micro|42.982006|42.982006|7169983752|http://westshoreb...|    10995 Main St | |    Clarence|United States|     New York|\n",
      "|1e5f9366-7e38-443...|  Stoudts Brewing Co|       micro|     NULL|     NULL|7174844386|http://www.stoudt...|Â Rt. 272 2800 No...|   Adamstown|United States| Pennsylvania|\n",
      "|088897ee-bbe3-4ba...|    Destihl - Normal|     brewpub|40.509705|40.509705|3098622337|http://www.destih...|318 S Towanda Ave | |      Normal|United States|     Illinois|\n",
      "|25a5fef8-192f-4cd...|     Bear Bones Beer|       micro|44.020126|44.020126|2072001324|http://www.bearbo...|     43 Lisbon St | |    Lewiston|United States|        Maine|\n",
      "|259107e5-6645-48b...|   Stoney Acres Farm|     brewpub|     NULL|     NULL|7154326285|http://www.stoney...|7002 Rangeline Rd | |      Athens|United States|    Wisconsin|\n",
      "|0cb8a74d-bea4-4fc...|  Hideout Brewing Co|     brewpub|     NULL|     NULL|6163619658|http://www.hideou...| 3113 Plaza Dr NE | |Grand Rapids|United States|     Michigan|\n",
      "|214c08f5-53a3-458...|      Boston Beer Co|       micro|     NULL|     NULL|6173685000|http://www.samuel...|30 Germania St St...|      Boston|United States|Massachusetts|\n",
      "|1a6103ad-023a-471...|     Amalgam Brewing|  proprietor|     NULL|     NULL|      NULL|http://www.amalga...|6381 Beach St Uni...|      Denver|United States|     Colorado|\n",
      "|12a897d9-1f87-4f5...|Migration Brewing Co|       micro|45.539364|45.539364|9712743770|                NULL|1818 NE Wilkes Rd | |    Portland|United States|       Oregon|\n",
      "|2efab57a-8614-428...|Bookhouse Brewing...|    planning|     NULL|     NULL|4144264555|http://www.bookho...|                    |   Cleveland|United States|         Ohio|\n",
      "|06f89ef6-e14a-464...|Callahan West Bre...|       micro| 35.77707| 35.77707|      NULL|                NULL|       20 Main St | |    Mosquero|United States|   New Mexico|\n",
      "+--------------------+--------------------+------------+---------+---------+----------+--------------------+--------------------+------------+-------------+-------------+\n"
     ]
    },
    {
     "name": "stderr",
     "output_type": "stream",
     "text": [
      "                                                                                \r"
     ]
    }
   ],
   "source": [
    "df = brewery.join(brewery_city, brewery['p_city'] == brewery_city['PK'], how = 'left')\\\n",
    "            .join(brewery_country, brewery['p_country'] == brewery_country['PK'], how = 'left')\\\n",
    "            .join(brewery_state, brewery['p_state'] == brewery_state['PK'], how = 'left')\\\n",
    "            .select('id', 'name', 'brewery_type', 'latitude', 'longitude', 'phone', 'website_url', 'address', 'city', 'country', 'state')\n",
    "df.show()"
   ],
   "metadata": {
    "collapsed": false,
    "ExecuteTime": {
     "end_time": "2024-02-03T20:54:50.557299Z",
     "start_time": "2024-02-03T20:54:45.369727Z"
    }
   },
   "id": "e39a7190ec758cc5",
   "execution_count": 33
  },
  {
   "cell_type": "code",
   "outputs": [
    {
     "name": "stderr",
     "output_type": "stream",
     "text": [
      "                                                                                \r"
     ]
    },
    {
     "name": "stdout",
     "output_type": "stream",
     "text": [
      "+--------------------+--------------------+------------+---------+---------+----------+--------------------+-------------+-------------+------------+\n",
      "|                  id|                name|brewery_type| latitude|longitude|     phone|             address|      country|        state|        city|\n",
      "+--------------------+--------------------+------------+---------+---------+----------+--------------------+-------------+-------------+------------+\n",
      "|0efdefd9-f325-479...|Bad Joker Brewing...|       micro| 41.59874| 41.59874|3075225824|830 Powerhouse Dr | |United States|      Wyoming|Rock Springs|\n",
      "|281a2d47-03db-45a...|Poseidon Brewing ...|       micro|34.244152|34.244152|8054770239|5777 Olivas Park ...|United States|   California|     Ventura|\n",
      "|1b089764-3735-43f...|Gillette Brewing ...|      closed|44.292038|44.292038|3076708948|301 S Gillette Av...|United States|      Wyoming|    Gillette|\n",
      "|044daf89-a298-426...|Scrappy Punk Brewing|       micro|47.913654|47.913654|5038101655|9029A 112th Dr SE | |United States|   Washington|   Snohomish|\n",
      "|26079ee9-0313-425...|Austin Brothers' ...|     brewpub| 45.07297| 45.07297|9893402300|  821 W Miller St | |United States|     Michigan|      Alpena|\n",
      "|20a3789b-132b-46a...|    Longship Brewery|      closed| 32.90417| 32.90417|8582467875|10320 Camino Sant...|United States|   California|   San Diego|\n",
      "|247250ee-18e2-4d0...|Humperdinks Resta...|     brewpub| 32.86378| 32.86378|2143584159|2208 W Northwest ...|United States|        Texas|      Dallas|\n",
      "|0ede1ab1-f8fe-4d9...|Lagunitas Brewing Co|       large|38.272648|38.272648|7077694495|1280 N McDowell B...|United States|   California|    Petaluma|\n",
      "|14e4b777-090d-46f...|   Ardent Craft Ales|       micro|37.568443|37.568443|8043591605|  3200 W Leigh St | |United States|     Virginia|    Richmond|\n",
      "|13bcbdcc-50e5-466...|West Shore Brewin...|       micro|42.982006|42.982006|7169983752|    10995 Main St | |United States|     New York|    Clarence|\n",
      "|1e5f9366-7e38-443...|  Stoudts Brewing Co|       micro|     NULL|     NULL|7174844386|Â Rt. 272 2800 No...|United States| Pennsylvania|   Adamstown|\n",
      "|088897ee-bbe3-4ba...|    Destihl - Normal|     brewpub|40.509705|40.509705|3098622337|318 S Towanda Ave | |United States|     Illinois|      Normal|\n",
      "|25a5fef8-192f-4cd...|     Bear Bones Beer|       micro|44.020126|44.020126|2072001324|     43 Lisbon St | |United States|        Maine|    Lewiston|\n",
      "|259107e5-6645-48b...|   Stoney Acres Farm|     brewpub|     NULL|     NULL|7154326285|7002 Rangeline Rd | |United States|    Wisconsin|      Athens|\n",
      "|0cb8a74d-bea4-4fc...|  Hideout Brewing Co|     brewpub|     NULL|     NULL|6163619658| 3113 Plaza Dr NE | |United States|     Michigan|Grand Rapids|\n",
      "|214c08f5-53a3-458...|      Boston Beer Co|       micro|     NULL|     NULL|6173685000|30 Germania St St...|United States|Massachusetts|      Boston|\n",
      "|1a6103ad-023a-471...|     Amalgam Brewing|  proprietor|     NULL|     NULL|      NULL|6381 Beach St Uni...|United States|     Colorado|      Denver|\n",
      "|12a897d9-1f87-4f5...|Migration Brewing Co|       micro|45.539364|45.539364|9712743770|1818 NE Wilkes Rd | |United States|       Oregon|    Portland|\n",
      "|2efab57a-8614-428...|Bookhouse Brewing...|    planning|     NULL|     NULL|4144264555|                    |United States|         Ohio|   Cleveland|\n",
      "|06f89ef6-e14a-464...|Callahan West Bre...|       micro| 35.77707| 35.77707|      NULL|       20 Main St | |United States|   New Mexico|    Mosquero|\n",
      "+--------------------+--------------------+------------+---------+---------+----------+--------------------+-------------+-------------+------------+\n"
     ]
    }
   ],
   "source": [
    "brewery_city.createOrReplaceTempView('city')\n",
    "brewery_country.createOrReplaceTempView('country')\n",
    "brewery_state.createOrReplaceTempView('state')\n",
    "brewery.createOrReplaceTempView('fact')\n",
    "\n",
    "_sql = \"\"\"\n",
    "SELECT FACT.id             AS id,\n",
    "       FACT.name,\n",
    "       FACT.brewery_type,\n",
    "       FACT.latitude,\n",
    "       FACT.longitude,\n",
    "       FACT.phone,\n",
    "       FACT.address,\n",
    "       DIM_COUNTRY.country AS country,\n",
    "       DIM_STATE.state     AS state,\n",
    "       DIM_CITY.city       AS city \n",
    "\n",
    "FROM fact AS FACT\n",
    "\n",
    "LEFT JOIN country AS DIM_COUNTRY ON FACT.p_country = DIM_COUNTRY.PK\n",
    "LEFT JOIN state   AS DIM_STATE   ON FACT.p_state = DIM_STATE.PK\n",
    "LEFT JOIN city    AS DIM_CITY    ON FACT.p_city = DIM_CITY.PK\n",
    "\"\"\"\n",
    "\n",
    "df = spark.sql(_sql)\n",
    "df.show()"
   ],
   "metadata": {
    "collapsed": false,
    "ExecuteTime": {
     "end_time": "2024-02-03T20:54:54.796045Z",
     "start_time": "2024-02-03T20:54:50.554742Z"
    }
   },
   "id": "f9abbac810757dd8",
   "execution_count": 34
  }
 ],
 "metadata": {
  "kernelspec": {
   "display_name": "Python 3",
   "language": "python",
   "name": "python3"
  },
  "language_info": {
   "codemirror_mode": {
    "name": "ipython",
    "version": 2
   },
   "file_extension": ".py",
   "mimetype": "text/x-python",
   "name": "python",
   "nbconvert_exporter": "python",
   "pygments_lexer": "ipython2",
   "version": "2.7.6"
  }
 },
 "nbformat": 4,
 "nbformat_minor": 5
}
